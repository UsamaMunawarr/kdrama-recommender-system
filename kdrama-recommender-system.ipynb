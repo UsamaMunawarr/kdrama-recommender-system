{
 "cells": [
  {
   "cell_type": "code",
   "execution_count": 56,
   "metadata": {},
   "outputs": [],
   "source": [
    "# import libraries\n",
    "import numpy as np\n",
    "import pandas as pd"
   ]
  },
  {
   "cell_type": "code",
   "execution_count": 57,
   "metadata": {},
   "outputs": [
    {
     "data": {
      "text/html": [
       "<div>\n",
       "<style scoped>\n",
       "    .dataframe tbody tr th:only-of-type {\n",
       "        vertical-align: middle;\n",
       "    }\n",
       "\n",
       "    .dataframe tbody tr th {\n",
       "        vertical-align: top;\n",
       "    }\n",
       "\n",
       "    .dataframe thead th {\n",
       "        text-align: right;\n",
       "    }\n",
       "</style>\n",
       "<table border=\"1\" class=\"dataframe\">\n",
       "  <thead>\n",
       "    <tr style=\"text-align: right;\">\n",
       "      <th></th>\n",
       "      <th>Unnamed: 0</th>\n",
       "      <th>Name</th>\n",
       "      <th>Year</th>\n",
       "      <th>Genre</th>\n",
       "      <th>Main Cast</th>\n",
       "      <th>Sinopsis</th>\n",
       "      <th>Score</th>\n",
       "      <th>Content Rating</th>\n",
       "      <th>Tags</th>\n",
       "      <th>Network</th>\n",
       "      <th>img url</th>\n",
       "      <th>Episode</th>\n",
       "    </tr>\n",
       "  </thead>\n",
       "  <tbody>\n",
       "    <tr>\n",
       "      <th>0</th>\n",
       "      <td>0</td>\n",
       "      <td>Move to Heaven</td>\n",
       "      <td>2021</td>\n",
       "      <td>Life, Drama</td>\n",
       "      <td>Lee Je Hoon, Tang Jun Sang, Hong Seung Hee, Ju...</td>\n",
       "      <td>Han Geu Roo is an autistic 20-year-old. He wor...</td>\n",
       "      <td>9.2</td>\n",
       "      <td>18+ Restricted (violence &amp; profanity)</td>\n",
       "      <td>Uncle-Nephew Relationship,, Autism,, Death,, S...</td>\n",
       "      <td>Netflix</td>\n",
       "      <td>https://i.mydramalist.com/Rle36_4c.jpg?v=1</td>\n",
       "      <td>10 episodes</td>\n",
       "    </tr>\n",
       "  </tbody>\n",
       "</table>\n",
       "</div>"
      ],
      "text/plain": [
       "   Unnamed: 0            Name  Year        Genre  \\\n",
       "0           0  Move to Heaven  2021  Life, Drama   \n",
       "\n",
       "                                           Main Cast  \\\n",
       "0  Lee Je Hoon, Tang Jun Sang, Hong Seung Hee, Ju...   \n",
       "\n",
       "                                            Sinopsis  Score  \\\n",
       "0  Han Geu Roo is an autistic 20-year-old. He wor...    9.2   \n",
       "\n",
       "                          Content Rating  \\\n",
       "0  18+ Restricted (violence & profanity)   \n",
       "\n",
       "                                                Tags  Network  \\\n",
       "0  Uncle-Nephew Relationship,, Autism,, Death,, S...  Netflix   \n",
       "\n",
       "                                      img url      Episode  \n",
       "0  https://i.mydramalist.com/Rle36_4c.jpg?v=1  10 episodes  "
      ]
     },
     "execution_count": 57,
     "metadata": {},
     "output_type": "execute_result"
    }
   ],
   "source": [
    "# import data\n",
    "data = pd.read_csv('kdrama_list.csv')\n",
    "data.head(1)"
   ]
  },
  {
   "cell_type": "code",
   "execution_count": 58,
   "metadata": {},
   "outputs": [
    {
     "name": "stdout",
     "output_type": "stream",
     "text": [
      "<class 'pandas.core.frame.DataFrame'>\n",
      "RangeIndex: 1647 entries, 0 to 1646\n",
      "Data columns (total 12 columns):\n",
      " #   Column          Non-Null Count  Dtype  \n",
      "---  ------          --------------  -----  \n",
      " 0   Unnamed: 0      1647 non-null   int64  \n",
      " 1   Name            1647 non-null   object \n",
      " 2   Year            1647 non-null   int64  \n",
      " 3   Genre           1647 non-null   object \n",
      " 4   Main Cast       1647 non-null   object \n",
      " 5   Sinopsis        1642 non-null   object \n",
      " 6   Score           1647 non-null   float64\n",
      " 7   Content Rating  1647 non-null   object \n",
      " 8   Tags            1628 non-null   object \n",
      " 9   Network         1647 non-null   object \n",
      " 10  img url         1647 non-null   object \n",
      " 11  Episode         1647 non-null   object \n",
      "dtypes: float64(1), int64(2), object(9)\n",
      "memory usage: 154.5+ KB\n"
     ]
    }
   ],
   "source": [
    "data.info()"
   ]
  },
  {
   "cell_type": "code",
   "execution_count": 59,
   "metadata": {},
   "outputs": [
    {
     "data": {
      "text/plain": [
       "Unnamed: 0         0\n",
       "Name               0\n",
       "Year               0\n",
       "Genre              0\n",
       "Main Cast          0\n",
       "Sinopsis           5\n",
       "Score              0\n",
       "Content Rating     0\n",
       "Tags              19\n",
       "Network            0\n",
       "img url            0\n",
       "Episode            0\n",
       "dtype: int64"
      ]
     },
     "execution_count": 59,
     "metadata": {},
     "output_type": "execute_result"
    }
   ],
   "source": [
    "# check missing values\n",
    "data.isnull().sum()"
   ]
  },
  {
   "cell_type": "code",
   "execution_count": 60,
   "metadata": {},
   "outputs": [],
   "source": [
    "# Drop missing values\n",
    "data = data.dropna(subset=['Tags'])\n",
    "#data = data.dropna(subset=['Tags','Sinopsis'])"
   ]
  },
  {
   "cell_type": "code",
   "execution_count": 61,
   "metadata": {},
   "outputs": [],
   "source": [
    "# write a function on which we will select 1st two genre in each Genre convert it into a string\n",
    "def genre(x):\n",
    "    return x.split(',')[0:2]\n",
    "# apply the function on Genre column\n",
    "data['Genre'] = data['Genre'].apply(genre)\n",
    "\n"
   ]
  },
  {
   "cell_type": "code",
   "execution_count": 64,
   "metadata": {},
   "outputs": [
    {
     "data": {
      "text/html": [
       "<div>\n",
       "<style scoped>\n",
       "    .dataframe tbody tr th:only-of-type {\n",
       "        vertical-align: middle;\n",
       "    }\n",
       "\n",
       "    .dataframe tbody tr th {\n",
       "        vertical-align: top;\n",
       "    }\n",
       "\n",
       "    .dataframe thead th {\n",
       "        text-align: right;\n",
       "    }\n",
       "</style>\n",
       "<table border=\"1\" class=\"dataframe\">\n",
       "  <thead>\n",
       "    <tr style=\"text-align: right;\">\n",
       "      <th></th>\n",
       "      <th>Unnamed: 0</th>\n",
       "      <th>Name</th>\n",
       "      <th>Year</th>\n",
       "      <th>Genre</th>\n",
       "      <th>Main Cast</th>\n",
       "      <th>Sinopsis</th>\n",
       "      <th>Score</th>\n",
       "      <th>Content Rating</th>\n",
       "      <th>Tags</th>\n",
       "      <th>Network</th>\n",
       "      <th>img url</th>\n",
       "      <th>Episode</th>\n",
       "    </tr>\n",
       "  </thead>\n",
       "  <tbody>\n",
       "    <tr>\n",
       "      <th>0</th>\n",
       "      <td>0</td>\n",
       "      <td>Move to Heaven</td>\n",
       "      <td>2021</td>\n",
       "      <td>[Life,  Drama]</td>\n",
       "      <td>Lee Je Hoon, Tang Jun Sang, Hong Seung Hee, Ju...</td>\n",
       "      <td>Han Geu Roo is an autistic 20-year-old. He wor...</td>\n",
       "      <td>9.2</td>\n",
       "      <td>18+ Restricted (violence &amp; profanity)</td>\n",
       "      <td>Uncle-Nephew Relationship,, Autism,, Death,, S...</td>\n",
       "      <td>Netflix</td>\n",
       "      <td>https://i.mydramalist.com/Rle36_4c.jpg?v=1</td>\n",
       "      <td>10 episodes</td>\n",
       "    </tr>\n",
       "  </tbody>\n",
       "</table>\n",
       "</div>"
      ],
      "text/plain": [
       "   Unnamed: 0            Name  Year           Genre  \\\n",
       "0           0  Move to Heaven  2021  [Life,  Drama]   \n",
       "\n",
       "                                           Main Cast  \\\n",
       "0  Lee Je Hoon, Tang Jun Sang, Hong Seung Hee, Ju...   \n",
       "\n",
       "                                            Sinopsis  Score  \\\n",
       "0  Han Geu Roo is an autistic 20-year-old. He wor...    9.2   \n",
       "\n",
       "                          Content Rating  \\\n",
       "0  18+ Restricted (violence & profanity)   \n",
       "\n",
       "                                                Tags  Network  \\\n",
       "0  Uncle-Nephew Relationship,, Autism,, Death,, S...  Netflix   \n",
       "\n",
       "                                      img url      Episode  \n",
       "0  https://i.mydramalist.com/Rle36_4c.jpg?v=1  10 episodes  "
      ]
     },
     "execution_count": 64,
     "metadata": {},
     "output_type": "execute_result"
    }
   ],
   "source": [
    "data.head(1)"
   ]
  },
  {
   "cell_type": "code",
   "execution_count": 65,
   "metadata": {},
   "outputs": [],
   "source": [
    "# convert Genre into string\n",
    "data['Genre'] = data['Genre'].apply(lambda x: ', '.join(x))"
   ]
  },
  {
   "cell_type": "code",
   "execution_count": 66,
   "metadata": {},
   "outputs": [
    {
     "data": {
      "text/plain": [
       "'Action,  Youth'"
      ]
     },
     "execution_count": 66,
     "metadata": {},
     "output_type": "execute_result"
    }
   ],
   "source": [
    "data['Genre'][1]"
   ]
  },
  {
   "cell_type": "code",
   "execution_count": 67,
   "metadata": {},
   "outputs": [
    {
     "data": {
      "text/html": [
       "<div>\n",
       "<style scoped>\n",
       "    .dataframe tbody tr th:only-of-type {\n",
       "        vertical-align: middle;\n",
       "    }\n",
       "\n",
       "    .dataframe tbody tr th {\n",
       "        vertical-align: top;\n",
       "    }\n",
       "\n",
       "    .dataframe thead th {\n",
       "        text-align: right;\n",
       "    }\n",
       "</style>\n",
       "<table border=\"1\" class=\"dataframe\">\n",
       "  <thead>\n",
       "    <tr style=\"text-align: right;\">\n",
       "      <th></th>\n",
       "      <th>Unnamed: 0</th>\n",
       "      <th>Name</th>\n",
       "      <th>Year</th>\n",
       "      <th>Genre</th>\n",
       "      <th>Main Cast</th>\n",
       "      <th>Sinopsis</th>\n",
       "      <th>Score</th>\n",
       "      <th>Content Rating</th>\n",
       "      <th>Tags</th>\n",
       "      <th>Network</th>\n",
       "      <th>img url</th>\n",
       "      <th>Episode</th>\n",
       "      <th>combined_features</th>\n",
       "    </tr>\n",
       "  </thead>\n",
       "  <tbody>\n",
       "    <tr>\n",
       "      <th>0</th>\n",
       "      <td>0</td>\n",
       "      <td>Move to Heaven</td>\n",
       "      <td>2021</td>\n",
       "      <td>Life,  Drama</td>\n",
       "      <td>Lee Je Hoon, Tang Jun Sang, Hong Seung Hee, Ju...</td>\n",
       "      <td>Han Geu Roo is an autistic 20-year-old. He wor...</td>\n",
       "      <td>9.2</td>\n",
       "      <td>18+ Restricted (violence &amp; profanity)</td>\n",
       "      <td>Uncle-Nephew Relationship,, Autism,, Death,, S...</td>\n",
       "      <td>Netflix</td>\n",
       "      <td>https://i.mydramalist.com/Rle36_4c.jpg?v=1</td>\n",
       "      <td>10 episodes</td>\n",
       "      <td>life,  drama uncle-nephew relationship,, autis...</td>\n",
       "    </tr>\n",
       "    <tr>\n",
       "      <th>1</th>\n",
       "      <td>1</td>\n",
       "      <td>Weak Hero Class 1</td>\n",
       "      <td>2022</td>\n",
       "      <td>Action,  Youth</td>\n",
       "      <td>Park Ji Hoon, Choi Hyun Wook, Hong Kyung, Kim ...</td>\n",
       "      <td>Yeon Shi Eun is a model student who ranks at t...</td>\n",
       "      <td>9.1</td>\n",
       "      <td>18+ Restricted (violence &amp; profanity)</td>\n",
       "      <td>Smart Male Lead,, Bromance,, School Bullying,,...</td>\n",
       "      <td>Wavve, iQIYI, Viki</td>\n",
       "      <td>https://i.mydramalist.com/pq2lr_4c.jpg?v=1</td>\n",
       "      <td>8 episodes</td>\n",
       "      <td>action,  youth smart male lead,, bromance,, sc...</td>\n",
       "    </tr>\n",
       "  </tbody>\n",
       "</table>\n",
       "</div>"
      ],
      "text/plain": [
       "   Unnamed: 0               Name  Year           Genre  \\\n",
       "0           0     Move to Heaven  2021    Life,  Drama   \n",
       "1           1  Weak Hero Class 1  2022  Action,  Youth   \n",
       "\n",
       "                                           Main Cast  \\\n",
       "0  Lee Je Hoon, Tang Jun Sang, Hong Seung Hee, Ju...   \n",
       "1  Park Ji Hoon, Choi Hyun Wook, Hong Kyung, Kim ...   \n",
       "\n",
       "                                            Sinopsis  Score  \\\n",
       "0  Han Geu Roo is an autistic 20-year-old. He wor...    9.2   \n",
       "1  Yeon Shi Eun is a model student who ranks at t...    9.1   \n",
       "\n",
       "                          Content Rating  \\\n",
       "0  18+ Restricted (violence & profanity)   \n",
       "1  18+ Restricted (violence & profanity)   \n",
       "\n",
       "                                                Tags             Network  \\\n",
       "0  Uncle-Nephew Relationship,, Autism,, Death,, S...             Netflix   \n",
       "1  Smart Male Lead,, Bromance,, School Bullying,,...  Wavve, iQIYI, Viki   \n",
       "\n",
       "                                      img url      Episode  \\\n",
       "0  https://i.mydramalist.com/Rle36_4c.jpg?v=1  10 episodes   \n",
       "1  https://i.mydramalist.com/pq2lr_4c.jpg?v=1   8 episodes   \n",
       "\n",
       "                                   combined_features  \n",
       "0  life,  drama uncle-nephew relationship,, autis...  \n",
       "1  action,  youth smart male lead,, bromance,, sc...  "
      ]
     },
     "execution_count": 67,
     "metadata": {},
     "output_type": "execute_result"
    }
   ],
   "source": [
    "# 2. Combine the `Genre` and `Tags` and 'Snopsis columns into a single feature for similarity\n",
    "# We will also lower the text to avoid case sensitivity\n",
    "#data['combined_features'] = data['Genre'].str.lower() + ' ' + data['Tags'].str.lower() + ' ' + data['Sinopsis'].str.lower()\n",
    "data['combined_features'] = data['Genre'].str.lower() + ' ' + data['Tags'].str.lower()\n",
    "data.head(2)"
   ]
  },
  {
   "cell_type": "code",
   "execution_count": 30,
   "metadata": {},
   "outputs": [
    {
     "data": {
      "text/plain": [
       "'life uncle-nephew relationship,, autism,, death,, savant syndrome,, mourning,, tearjerker,, life lesson,, cleaning and organizing,, autism spectrum disorder,, murder'"
      ]
     },
     "execution_count": 30,
     "metadata": {},
     "output_type": "execute_result"
    }
   ],
   "source": [
    "data['combined_features'][0]"
   ]
  },
  {
   "cell_type": "code",
   "execution_count": 31,
   "metadata": {},
   "outputs": [
    {
     "name": "stderr",
     "output_type": "stream",
     "text": [
      "c:\\Users\\usama\\miniconda3\\envs\\tf\\Lib\\site-packages\\sklearn\\feature_extraction\\text.py:521: UserWarning: The parameter 'token_pattern' will not be used since 'tokenizer' is not None'\n",
      "  warnings.warn(\n"
     ]
    }
   ],
   "source": [
    "# 3. Convert the combined features into a matrix of token counts\n",
    "# We'll use CountVectorizer to create a 'bag-of-words' model\n",
    "from sklearn.feature_extraction.text import CountVectorizer\n",
    "vectorizer = CountVectorizer(tokenizer=lambda x: x.split(', '))  # split by commas and spaces\n",
    "features_matrix = vectorizer.fit_transform(data['combined_features'])"
   ]
  },
  {
   "cell_type": "code",
   "execution_count": 32,
   "metadata": {},
   "outputs": [
    {
     "name": "stdout",
     "output_type": "stream",
     "text": [
      "Combined Features Example:\n",
      " 0    life uncle-nephew relationship,, autism,, deat...\n",
      "1    action smart male lead,, bromance,, school bul...\n",
      "2    romance multiple mains,, band,, music,, strong...\n",
      "3    thriller deception,, family secret,, mystery,,...\n",
      "4    romance nice male lead,, multiple mains,, slow...\n",
      "Name: combined_features, dtype: object\n",
      "\n",
      "Shape of the Features Matrix: (1628, 3225)\n"
     ]
    }
   ],
   "source": [
    "# Preview the combined features and shape of the matrix\n",
    "print(\"Combined Features Example:\\n\", data['combined_features'].head())\n",
    "print(\"\\nShape of the Features Matrix:\", features_matrix.shape)"
   ]
  },
  {
   "cell_type": "code",
   "execution_count": 33,
   "metadata": {},
   "outputs": [],
   "source": [
    "from sklearn.metrics.pairwise import cosine_similarity\n",
    "\n",
    "# 1. Compute the cosine similarity matrix based on the features matrix\n",
    "cosine_sim = cosine_similarity(features_matrix)"
   ]
  },
  {
   "cell_type": "code",
   "execution_count": 34,
   "metadata": {},
   "outputs": [],
   "source": [
    "# 2. Create a function to get top 5 similar dramas based on input\n",
    "def get_recommendations(drama_name, cosine_sim=cosine_sim):\n",
    "    # Get the index of the drama that matches the title\n",
    "    idx = data[data['Name'].str.lower() == drama_name.lower()].index[0]\n",
    "    \n",
    "    # Get the similarity scores for this drama with all others\n",
    "    sim_scores = list(enumerate(cosine_sim[idx]))\n",
    "    \n",
    "    # Sort the dramas based on similarity scores (in descending order)\n",
    "    sim_scores = sorted(sim_scores, key=lambda x: x[1], reverse=True)\n",
    "    \n",
    "    # Get the indices of the 5 most similar dramas (excluding itself)\n",
    "    sim_scores = sim_scores[1:6]  # Skip the first one because it's the same drama\n",
    "    \n",
    "    # Get the drama indices\n",
    "    drama_indices = [i[0] for i in sim_scores]\n",
    "    \n",
    "    # Return the top 5 most similar dramas\n",
    "    return data['Name'].iloc[drama_indices]\n"
   ]
  },
  {
   "cell_type": "code",
   "execution_count": 35,
   "metadata": {},
   "outputs": [
    {
     "name": "stdout",
     "output_type": "stream",
     "text": [
      "Top 5 recommendations for 'Move to Heaven':\n",
      "1. Woman with a Suitcase\n",
      "2. Bad Prosecutor\n",
      "3. The Red Sleeve\n",
      "4. Goblin\n",
      "5. Moon Lovers: Scarlet Heart Ryeo\n"
     ]
    }
   ],
   "source": [
    "\n",
    "# Example usage\n",
    "drama_name = 'Move to Heaven'  # You can change this to any drama name from your dataset\n",
    "recommended_dramas = get_recommendations(drama_name)\n",
    "\n",
    "# Print the recommendations\n",
    "print(f\"Top 5 recommendations for '{drama_name}':\")\n",
    "for i, rec in enumerate(recommended_dramas, 1):\n",
    "    print(f\"{i}. {rec}\")\n"
   ]
  }
 ],
 "metadata": {
  "kernelspec": {
   "display_name": "tf",
   "language": "python",
   "name": "python3"
  },
  "language_info": {
   "codemirror_mode": {
    "name": "ipython",
    "version": 3
   },
   "file_extension": ".py",
   "mimetype": "text/x-python",
   "name": "python",
   "nbconvert_exporter": "python",
   "pygments_lexer": "ipython3",
   "version": "3.12.4"
  }
 },
 "nbformat": 4,
 "nbformat_minor": 2
}
